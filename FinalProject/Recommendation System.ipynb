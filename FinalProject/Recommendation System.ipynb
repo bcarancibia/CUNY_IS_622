{
 "cells": [
  {
   "cell_type": "code",
   "execution_count": 3,
   "metadata": {
    "collapsed": false
   },
   "outputs": [],
   "source": [
    "%matplotlib inline\n",
    "from collections import defaultdict\n",
    "import json\n",
    "\n",
    "import numpy as np\n",
    "import scipy as sp\n",
    "import matplotlib.pyplot as plt\n",
    "import pandas as pd\n",
    "\n",
    "from matplotlib import rcParams\n",
    "import matplotlib.cm as cm\n",
    "import matplotlib as mpl\n",
    "dark2_colors = [(0.10588235294117647, 0.6196078431372549, 0.4666666666666667),\n",
    "                (0.8509803921568627, 0.37254901960784315, 0.00784313725490196),\n",
    "                (0.4588235294117647, 0.4392156862745098, 0.7019607843137254),\n",
    "                (0.9058823529411765, 0.1607843137254902, 0.5411764705882353),\n",
    "                (0.4, 0.6509803921568628, 0.11764705882352941),\n",
    "                (0.9019607843137255, 0.6705882352941176, 0.00784313725490196),\n",
    "                (0.6509803921568628, 0.4627450980392157, 0.11372549019607843)]\n",
    "rcParams['figure.figsize'] = (10, 6)\n",
    "rcParams['figure.dpi'] = 150\n",
    "rcParams['axes.color_cycle'] = dark2_colors\n",
    "rcParams['lines.linewidth'] = 2\n",
    "rcParams['axes.facecolor'] = 'white'\n",
    "rcParams['font.size'] = 14\n",
    "rcParams['patch.edgecolor'] = 'white'\n",
    "rcParams['patch.facecolor'] = dark2_colors[0]\n",
    "rcParams['font.family'] = 'StixGeneral'\n",
    "\n",
    "\n",
    "def remove_border(axes=None, top=False, right=False, left=True, bottom=True):\n",
    "    \"\"\"\n",
    "    Minimize chartjunk by stripping out unnecesasry plot borders and axis ticks\n",
    "    \n",
    "    The top/right/left/bottom keywords toggle whether the corresponding plot border is drawn\n",
    "    \"\"\"\n",
    "    ax = axes or plt.gca()\n",
    "    ax.spines['top'].set_visible(top)\n",
    "    ax.spines['right'].set_visible(right)\n",
    "    ax.spines['left'].set_visible(left)\n",
    "    ax.spines['bottom'].set_visible(bottom)\n",
    "    \n",
    "    #turn off all ticks\n",
    "    ax.yaxis.set_ticks_position('none')\n",
    "    ax.xaxis.set_ticks_position('none')\n",
    "    \n",
    "    #now re-enable visibles\n",
    "    if top:\n",
    "        ax.xaxis.tick_top()\n",
    "    if bottom:\n",
    "        ax.xaxis.tick_bottom()\n",
    "    if left:\n",
    "        ax.yaxis.tick_left()\n",
    "    if right:\n",
    "        ax.yaxis.tick_right()\n",
    "        \n",
    "pd.set_option('display.width', 500)\n",
    "pd.set_option('display.max_columns', 100)"
   ]
  },
  {
   "cell_type": "code",
   "execution_count": 4,
   "metadata": {
    "collapsed": false
   },
   "outputs": [
    {
     "data": {
      "text/html": [
       "<div style=\"max-height:1000px;max-width:1500px;overflow:auto;\">\n",
       "<table border=\"1\" class=\"dataframe\">\n",
       "  <thead>\n",
       "    <tr style=\"text-align: right;\">\n",
       "      <th></th>\n",
       "      <th>user_id</th>\n",
       "      <th>business_id</th>\n",
       "      <th>date</th>\n",
       "      <th>review_id</th>\n",
       "      <th>stars</th>\n",
       "      <th>usefulvotes_review</th>\n",
       "      <th>user_name</th>\n",
       "      <th>categories</th>\n",
       "      <th>biz_name</th>\n",
       "      <th>latitude</th>\n",
       "      <th>longitude</th>\n",
       "      <th>business_avg</th>\n",
       "      <th>business_review_count</th>\n",
       "      <th>user_avg</th>\n",
       "      <th>user_review_count</th>\n",
       "    </tr>\n",
       "  </thead>\n",
       "  <tbody>\n",
       "    <tr>\n",
       "      <th>0</th>\n",
       "      <td> rLtl8ZkDX5vH5nAx9C3q5Q</td>\n",
       "      <td> 9yKzy9PApeiPPOUJEtnvkg</td>\n",
       "      <td> 2011-01-26 00:00:00</td>\n",
       "      <td> fWKvX83p0-ka4JS3dc6E5A</td>\n",
       "      <td> 5</td>\n",
       "      <td> 5</td>\n",
       "      <td>    Jason</td>\n",
       "      <td> [Breakfast &amp; Brunch, Restaurants]</td>\n",
       "      <td> Morning Glory Cafe</td>\n",
       "      <td> 33.390792</td>\n",
       "      <td>-112.012504</td>\n",
       "      <td> 3.87156</td>\n",
       "      <td> 109</td>\n",
       "      <td> 3.796954</td>\n",
       "      <td> 197</td>\n",
       "    </tr>\n",
       "    <tr>\n",
       "      <th>1</th>\n",
       "      <td> SBbftLzfYYKItOMFwOTIJg</td>\n",
       "      <td> 9yKzy9PApeiPPOUJEtnvkg</td>\n",
       "      <td> 2008-05-04 00:00:00</td>\n",
       "      <td> DASdFe-g0BgfN9J2tanStg</td>\n",
       "      <td> 5</td>\n",
       "      <td> 1</td>\n",
       "      <td> Jennifer</td>\n",
       "      <td> [Breakfast &amp; Brunch, Restaurants]</td>\n",
       "      <td> Morning Glory Cafe</td>\n",
       "      <td> 33.390792</td>\n",
       "      <td>-112.012504</td>\n",
       "      <td> 3.87156</td>\n",
       "      <td> 109</td>\n",
       "      <td> 3.473684</td>\n",
       "      <td>  57</td>\n",
       "    </tr>\n",
       "  </tbody>\n",
       "</table>\n",
       "</div>"
      ],
      "text/plain": [
       "                  user_id             business_id                 date               review_id  stars  usefulvotes_review user_name                         categories            biz_name   latitude   longitude  business_avg  business_review_count  user_avg  user_review_count\n",
       "0  rLtl8ZkDX5vH5nAx9C3q5Q  9yKzy9PApeiPPOUJEtnvkg  2011-01-26 00:00:00  fWKvX83p0-ka4JS3dc6E5A      5                   5     Jason  [Breakfast & Brunch, Restaurants]  Morning Glory Cafe  33.390792 -112.012504       3.87156                    109  3.796954                197\n",
       "1  SBbftLzfYYKItOMFwOTIJg  9yKzy9PApeiPPOUJEtnvkg  2008-05-04 00:00:00  DASdFe-g0BgfN9J2tanStg      5                   1  Jennifer  [Breakfast & Brunch, Restaurants]  Morning Glory Cafe  33.390792 -112.012504       3.87156                    109  3.473684                 57"
      ]
     },
     "execution_count": 4,
     "metadata": {},
     "output_type": "execute_result"
    }
   ],
   "source": [
    "fulldf=pd.read_csv(\"/users/bcarancibia/CUNY_IS_622/FinalProject/bigdf.csv\")\n",
    "fulldf.head(2)"
   ]
  },
  {
   "cell_type": "code",
   "execution_count": null,
   "metadata": {
    "collapsed": true
   },
   "outputs": [],
   "source": []
  }
 ],
 "metadata": {
  "kernelspec": {
   "display_name": "Python 2",
   "language": "python",
   "name": "python2"
  },
  "language_info": {
   "codemirror_mode": {
    "name": "ipython",
    "version": 2
   },
   "file_extension": ".py",
   "mimetype": "text/x-python",
   "name": "python",
   "nbconvert_exporter": "python",
   "pygments_lexer": "ipython2",
   "version": "2.7.8"
  }
 },
 "nbformat": 4,
 "nbformat_minor": 0
}
